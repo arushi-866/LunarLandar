{
  "cells": [
    {
      "cell_type": "code",
      "execution_count": 1,
      "metadata": {
        "colab": {
          "base_uri": "https://localhost:8080/"
        },
        "id": "rgZ0oVf-S4ud",
        "outputId": "95aa84c9-8647-4d43-a9bb-7349b69b7b1f"
      },
      "outputs": [
        {
          "output_type": "stream",
          "name": "stdout",
          "text": [
            "Writing utils.py\n"
          ]
        }
      ],
      "source": [
        "%%writefile utils.py\n",
        "import numpy as np\n",
        "import matplotlib.pyplot as plt\n",
        "import tensorflow as tf\n",
        "import imageio\n",
        "import base64\n",
        "import io\n",
        "from IPython.display import HTML\n",
        "\n",
        "SEED = 42 # Added SEED\n",
        "\n",
        "def plot_learning_curve(scores, epsilon_history, filename):\n",
        "    fig, ax1 = plt.subplots()\n",
        "    ax1.plot(scores, color='blue')\n",
        "    ax1.set_xlabel('Episode')\n",
        "    ax1.set_ylabel('Score', color='blue')\n",
        "    ax1.tick_params(axis='y', labelcolor='blue')\n",
        "\n",
        "    ax2 = ax1.twinx()\n",
        "    ax2.plot(epsilon_history, color='red')\n",
        "    ax2.set_ylabel('Epsilon', color='red')\n",
        "    ax2.tick_params(axis='y', labelcolor='red')\n",
        "\n",
        "    plt.title('Learning Curve')\n",
        "    plt.savefig(filename)\n",
        "    plt.close()\n",
        "\n",
        "def preprocess_state(state):\n",
        "    return np.array(state, dtype=np.float32)\n",
        "\n",
        "def save_model(model, filename=\"dqn_model.h5\"):\n",
        "    model.save(filename)\n",
        "\n",
        "def load_model(filename=\"dqn_model.h5\"):\n",
        "    from tensorflow.keras.models import load_model\n",
        "    return load_model(filename)\n",
        "\n",
        "def display_video(frames):\n",
        "    from IPython.display import HTML\n",
        "    import base64\n",
        "    import io\n",
        "    from matplotlib import animation\n",
        "\n",
        "    fig = plt.figure()\n",
        "    patch = plt.imshow(frames[0])\n",
        "    plt.axis('off')\n",
        "\n",
        "    def animate(i):\n",
        "        patch.set_data(frames[i])\n",
        "        return (patch,)\n",
        "\n",
        "    anim = animation.FuncAnimation(fig, animate, frames=len(frames), interval=50)\n",
        "    return HTML(anim.to_jshtml())\n",
        "\n",
        "def display_table(current_state, action, next_state, reward, done):\n",
        "    from IPython.display import display, HTML\n",
        "    import pandas as pd\n",
        "\n",
        "    data = {'Current State': [current_state],\n",
        "            'Action': [action],\n",
        "            'Next State': [next_state],\n",
        "            'Reward': [reward],\n",
        "            'Done': [done]}\n",
        "    df = pd.DataFrame(data)\n",
        "    display(HTML(df.to_html()))\n",
        "\n",
        "def update_target_network(q_network, target_q_network):\n",
        "    \"\"\"\n",
        "    Updates the weights of the target Q-network with the weights of the Q-network.\n",
        "    \"\"\"\n",
        "    target_q_network.set_weights(q_network.get_weights())\n",
        "\n",
        "def create_video(filename, env, q_network, num_episodes=1):\n",
        "    \"\"\"\n",
        "    Creates a video of the agent playing the game.\n",
        "\n",
        "    Args:\n",
        "        filename (str): The name of the output video file.\n",
        "        env (gym.Env): The environment.\n",
        "        q_network (tf.keras.Model): The Q-Network.\n",
        "        num_episodes (int): The number of episodes to record.\n",
        "    \"\"\"\n",
        "    with imageio.get_writer(filename, fps=60) as video:\n",
        "        for i in range(num_episodes):\n",
        "            state = env.reset()[0]\n",
        "            done = False\n",
        "            while not done:\n",
        "                frame = env.render()\n",
        "                video.append_data(frame)\n",
        "                state_qn = tf.expand_dims(state, axis=0)\n",
        "                q_values = q_network(state_qn)\n",
        "                action = tf.argmax(q_values, axis=1).numpy()[0]\n",
        "                state, reward, terminated, truncated, _ = env.step(action)\n",
        "                done = terminated or truncated\n",
        "\n",
        "def embed_mp4(filename):\n",
        "    \"\"\"\n",
        "    Embeds an mp4 file in the notebook.\n",
        "\n",
        "    Args:\n",
        "        filename (str): The name of the mp4 file.\n",
        "\n",
        "    Returns:\n",
        "        HTML: The HTML code to embed the video.\n",
        "    \"\"\"\n",
        "    video = open(filename, 'rb').read()\n",
        "    b64 = base64.b64encode(video)\n",
        "    tag = '''\n",
        "    <video width=\"640\" height=\"480\" controls>\n",
        "      <source src=\"data:video/mp4;base64,{0}\" type=\"video/mp4\">\n",
        "    </video>'''.format(b64.decode())\n",
        "    return HTML(tag)"
      ]
    },
    {
      "cell_type": "code",
      "execution_count": 2,
      "metadata": {
        "colab": {
          "base_uri": "https://localhost:8080/"
        },
        "id": "4xjImyXuv0x8",
        "outputId": "457a4d0f-f47b-4551-99cd-e1d5027048c5"
      },
      "outputs": [
        {
          "output_type": "stream",
          "name": "stdout",
          "text": [
            "Collecting pyvirtualdisplay\n",
            "  Downloading PyVirtualDisplay-3.0-py3-none-any.whl.metadata (943 bytes)\n",
            "Downloading PyVirtualDisplay-3.0-py3-none-any.whl (15 kB)\n",
            "Installing collected packages: pyvirtualdisplay\n",
            "Successfully installed pyvirtualdisplay-3.0\n"
          ]
        }
      ],
      "source": [
        "!pip install pyvirtualdisplay"
      ]
    },
    {
      "cell_type": "code",
      "execution_count": 3,
      "metadata": {
        "id": "tbc-zqyNRCXv"
      },
      "outputs": [],
      "source": [
        "import time\n",
        "from collections import deque, namedtuple\n",
        "\n",
        "import gym\n",
        "import numpy as np\n",
        "import PIL.Image\n",
        "import tensorflow as tf\n",
        "import importlib\n",
        "import utils\n",
        "importlib.reload(utils)  # Reloads the updated utils.py\n",
        "\n",
        "\n",
        "from pyvirtualdisplay import Display\n",
        "from tensorflow.keras import Sequential\n",
        "from tensorflow.keras.layers import Dense, Input\n",
        "from tensorflow.keras.losses import MSE\n",
        "from tensorflow.keras.optimizers import Adam"
      ]
    },
    {
      "cell_type": "markdown",
      "metadata": {
        "id": "h83Hrm4qS5P3"
      },
      "source": []
    },
    {
      "cell_type": "code",
      "execution_count": 4,
      "metadata": {
        "id": "r50mZolORNpp"
      },
      "outputs": [],
      "source": [
        "# Set up a virtual display to render the Lunar Lander environment.\n",
        "Display(visible=0, size=(840, 480)).start();\n",
        "\n",
        "# Set the random seed for TensorFlow\n",
        "tf.random.set_seed(utils.SEED)"
      ]
    },
    {
      "cell_type": "code",
      "execution_count": 5,
      "metadata": {
        "colab": {
          "base_uri": "https://localhost:8080/"
        },
        "id": "XUnPAnPywCFv",
        "outputId": "101ae332-2596-48fc-c26f-c0c13d7cc5a8"
      },
      "outputs": [
        {
          "output_type": "stream",
          "name": "stdout",
          "text": [
            "Collecting swig==4.*\n",
            "  Downloading swig-4.3.1-py3-none-manylinux_2_12_x86_64.manylinux2010_x86_64.whl.metadata (3.5 kB)\n",
            "Downloading swig-4.3.1-py3-none-manylinux_2_12_x86_64.manylinux2010_x86_64.whl (1.9 MB)\n",
            "\u001b[?25l   \u001b[90m━━━━━━━━━━━━━━━━━━━━━━━━━━━━━━━━━━━━━━━━\u001b[0m \u001b[32m0.0/1.9 MB\u001b[0m \u001b[31m?\u001b[0m eta \u001b[36m-:--:--\u001b[0m\r\u001b[2K   \u001b[91m━━━━━\u001b[0m\u001b[91m╸\u001b[0m\u001b[90m━━━━━━━━━━━━━━━━━━━━━━━━━━━━━━━━━━\u001b[0m \u001b[32m0.3/1.9 MB\u001b[0m \u001b[31m8.1 MB/s\u001b[0m eta \u001b[36m0:00:01\u001b[0m\r\u001b[2K   \u001b[91m━━━━━━━━━━━━━━━━━━━━━━━━━━━━━━━━━━━━━━━\u001b[0m\u001b[91m╸\u001b[0m \u001b[32m1.9/1.9 MB\u001b[0m \u001b[31m29.5 MB/s\u001b[0m eta \u001b[36m0:00:01\u001b[0m\r\u001b[2K   \u001b[90m━━━━━━━━━━━━━━━━━━━━━━━━━━━━━━━━━━━━━━━━\u001b[0m \u001b[32m1.9/1.9 MB\u001b[0m \u001b[31m18.2 MB/s\u001b[0m eta \u001b[36m0:00:00\u001b[0m\n",
            "\u001b[?25hInstalling collected packages: swig\n",
            "Successfully installed swig-4.3.1\n",
            "Requirement already satisfied: gymnasium[box2d] in /usr/local/lib/python3.11/dist-packages (1.2.0)\n",
            "Requirement already satisfied: numpy>=1.21.0 in /usr/local/lib/python3.11/dist-packages (from gymnasium[box2d]) (2.0.2)\n",
            "Requirement already satisfied: cloudpickle>=1.2.0 in /usr/local/lib/python3.11/dist-packages (from gymnasium[box2d]) (3.1.1)\n",
            "Requirement already satisfied: typing-extensions>=4.3.0 in /usr/local/lib/python3.11/dist-packages (from gymnasium[box2d]) (4.14.1)\n",
            "Requirement already satisfied: farama-notifications>=0.0.1 in /usr/local/lib/python3.11/dist-packages (from gymnasium[box2d]) (0.0.4)\n",
            "Collecting box2d-py==2.3.5 (from gymnasium[box2d])\n",
            "  Downloading box2d-py-2.3.5.tar.gz (374 kB)\n",
            "\u001b[2K     \u001b[90m━━━━━━━━━━━━━━━━━━━━━━━━━━━━━━━━━━━━━━━\u001b[0m \u001b[32m374.4/374.4 kB\u001b[0m \u001b[31m8.4 MB/s\u001b[0m eta \u001b[36m0:00:00\u001b[0m\n",
            "\u001b[?25h  Preparing metadata (setup.py) ... \u001b[?25l\u001b[?25hdone\n",
            "Requirement already satisfied: pygame>=2.1.3 in /usr/local/lib/python3.11/dist-packages (from gymnasium[box2d]) (2.6.1)\n",
            "Requirement already satisfied: swig==4.* in /usr/local/lib/python3.11/dist-packages (from gymnasium[box2d]) (4.3.1)\n",
            "Building wheels for collected packages: box2d-py\n",
            "  Building wheel for box2d-py (setup.py) ... \u001b[?25l\u001b[?25hdone\n",
            "  Created wheel for box2d-py: filename=box2d_py-2.3.5-cp311-cp311-linux_x86_64.whl size=2379416 sha256=2a0431fb6997014a3baafa91329989eb003572a9c90da0240342dd4796fb8c6e\n",
            "  Stored in directory: /root/.cache/pip/wheels/ab/f1/0c/d56f4a2bdd12bae0a0693ec33f2f0daadb5eb9753c78fa5308\n",
            "Successfully built box2d-py\n",
            "Installing collected packages: box2d-py\n",
            "Successfully installed box2d-py-2.3.5\n"
          ]
        }
      ],
      "source": [
        "!pip install swig==4.*\n",
        "!pip install \"gymnasium[box2d]\""
      ]
    },
    {
      "cell_type": "code",
      "execution_count": 6,
      "metadata": {
        "colab": {
          "base_uri": "https://localhost:8080/"
        },
        "id": "MyNVu1hsRWMX",
        "outputId": "844898ab-83ac-4548-950f-eff26e61336a"
      },
      "outputs": [
        {
          "output_type": "stream",
          "name": "stderr",
          "text": [
            "<frozen importlib._bootstrap>:241: DeprecationWarning: builtin type SwigPyPacked has no __module__ attribute\n",
            "<frozen importlib._bootstrap>:241: DeprecationWarning: builtin type SwigPyObject has no __module__ attribute\n",
            "<frozen importlib._bootstrap>:241: DeprecationWarning: builtin type swigvarlink has no __module__ attribute\n"
          ]
        },
        {
          "output_type": "stream",
          "name": "stdout",
          "text": [
            "Observation shape: (8,)\n",
            "Action space: Discrete(4)\n"
          ]
        }
      ],
      "source": [
        "import gymnasium as gym\n",
        "\n",
        "env = gym.make('LunarLander-v3', render_mode=\"rgb_array\")  # Use render_mode for rendering\n",
        "obs, info = env.reset()\n",
        "print(\"Observation shape:\", obs.shape)\n",
        "print(\"Action space:\", env.action_space)\n"
      ]
    },
    {
      "cell_type": "code",
      "execution_count": 7,
      "metadata": {
        "colab": {
          "base_uri": "https://localhost:8080/",
          "height": 417
        },
        "id": "Q_asvBpDSWK3",
        "outputId": "e2d49a9b-dc14-431d-a033-2f1e9b8616dc"
      },
      "outputs": [
        {
          "output_type": "execute_result",
          "data": {
            "text/plain": [
              "<PIL.Image.Image image mode=RGB size=600x400>"
            ],
            "image/png": "[encoded data removed]",
            "image/jpeg": "[encoded data removed]"
          },
          "metadata": {},
          "execution_count": 7
        }
      ],
      "source": [
        "from PIL import Image\n",
        "\n",
        "env = gym.make('LunarLander-v3', render_mode=\"rgb_array\")\n",
        "obs, info = env.reset()\n",
        "\n",
        "frame = env.render()\n",
        "Image.fromarray(frame)"
      ]
    },
    {
      "cell_type": "code",
      "execution_count": 8,
      "metadata": {
        "colab": {
          "base_uri": "https://localhost:8080/"
        },
        "id": "mkTbWOuySWWw",
        "outputId": "6aeb625b-9337-4140-a8cc-c2dbdb02271f"
      },
      "outputs": [
        {
          "output_type": "stream",
          "name": "stdout",
          "text": [
            "State Shape: (8,)\n",
            "Number of actions: 4\n"
          ]
        }
      ],
      "source": [
        "state_size = env.observation_space.shape\n",
        "num_actions = env.action_space.n\n",
        "\n",
        "print('State Shape:', state_size)\n",
        "print('Number of actions:', num_actions)"
      ]
    },
    {
      "cell_type": "code",
      "execution_count": 9,
      "metadata": {
        "id": "4JJv0yegSWh6"
      },
      "outputs": [],
      "source": [
        "# Reset the environment and get the initial state.\n",
        "current_state = env.reset()"
      ]
    },
    {
      "cell_type": "code",
      "execution_count": 10,
      "metadata": {
        "colab": {
          "base_uri": "https://localhost:8080/",
          "height": 98
        },
        "id": "a8COiBixSWkj",
        "outputId": "16bbe1e8-0f86-4ef9-d529-a3e904133466"
      },
      "outputs": [
        {
          "output_type": "display_data",
          "data": {
            "text/plain": [
              "<IPython.core.display.HTML object>"
            ],
            "text/html": [
              "<table border=\"1\" class=\"dataframe\">\n",
              "  <thead>\n",
              "    <tr style=\"text-align: right;\">\n",
              "      <th></th>\n",
              "      <th>Current State</th>\n",
              "      <th>Action</th>\n",
              "      <th>Next State</th>\n",
              "      <th>Reward</th>\n",
              "      <th>Done</th>\n",
              "    </tr>\n",
              "  </thead>\n",
              "  <tbody>\n",
              "    <tr>\n",
              "      <th>0</th>\n",
              "      <td>([-0.00789814, 1.40132, -0.8000162, -0.42670166, 0.009158806, 0.18121558, 0.0, 0.0], {})</td>\n",
              "      <td>0</td>\n",
              "      <td>[-0.015796948, 1.3911443, -0.7989356, -0.45234144, 0.018113265, 0.17910685, 0.0, 0.0]</td>\n",
              "      <td>-1.025042</td>\n",
              "      <td>False</td>\n",
              "    </tr>\n",
              "  </tbody>\n",
              "</table>"
            ]
          },
          "metadata": {}
        }
      ],
      "source": [
        "# Select an action\n",
        "action = 0\n",
        "\n",
        "# Run a single time step of the environment's dynamics with the given action.\n",
        "next_state, reward, terminated, truncated, _ = env.step(action) # Unpack 5 values\n",
        "\n",
        "# Display table with values.\n",
        "utils.display_table(current_state, action, next_state, reward, terminated or truncated) # Use terminated or truncated for done\n",
        "\n",
        "# Replace the `current_state` with the state after the action is taken\n",
        "current_state = next_state"
      ]
    },
    {
      "cell_type": "code",
      "execution_count": 11,
      "metadata": {
        "id": "T2EuWceBSWnF"
      },
      "outputs": [],
      "source": [
       
        "\n",
        "# Define the learning rate\n",
        "ALPHA = 0.001 # You can adjust this value\n",
        "\n",
        "# Create the Q-Network\n",
        "q_network = Sequential([\n",
        "    Input(shape=(state_size[0],)),           # Input layer\n",
        "    Dense(64, activation='relu'),            # First hidden layer\n",
        "    Dense(64, activation='relu'),            # Second hidden layer\n",
        "    Dense(num_actions, activation='linear')  # Output layer\n",
        "])\n",
        "\n",
        "# Create the target Q^-Network\n",
        "target_q_network = Sequential([\n",
        "    Input(shape=(state_size[0],)),           # Input layer\n",
        "    Dense(64, activation='relu'),            # First hidden layer\n",
        "    Dense(64, activation='relu'),            # Second hidden layer\n",
        "    Dense(num_actions, activation='linear')  # Output layer\n",
        "])\n",
        "\n",
        "# Set the optimizer\n",
        "optimizer = Adam(learning_rate=ALPHA)"
      ]
    },
    {
      "cell_type": "code",
      "execution_count": 12,
      "metadata": {
        "id": "9Wb0Ed2FSWtX"
      },
      "outputs": [],
      "source": [
        "# Store experiences as named tuples\n",
        "experience = namedtuple(\"Experience\", field_names=[\"state\", \"action\", \"reward\", \"next_state\", \"done\"])"
      ]
    },
    {
      "cell_type": "code",
      "execution_count": 13,
      "metadata": {
        "id": "b886d742"
      },
      "outputs": [],
      "source": [
       
        "\n",
        "def select_action(state, epsilon, q_network, num_actions):\n",
        "    \"\"\"\n",
        "    Selects an action using an epsilon-greedy policy.\n",
        "\n",
        "    Args:\n",
        "        state (np.ndarray): The current state of the environment.\n",
        "        epsilon (float): The probability of choosing a random action.\n",
        "        q_network (tf.keras.Model): The Q-Network.\n",
        "        num_actions (int): The number of possible actions.\n",
        "\n",
        "    Returns:\n",
        "        int: The selected action.\n",
        "    \"\"\"\n",
        "    # Reshape state to match the input shape of the Q-network\n",
        "    state = tf.expand_dims(state, axis=0)\n",
        "\n",
        "    # Generate a random number\n",
        "    random_number = np.random.rand()\n",
        "\n",
        "    # Choose action based on epsilon-greedy policy\n",
        "    if random_number <= epsilon:\n",
        "        # Explore: choose a random action\n",
        "        action = np.random.randint(num_actions)\n",
        "    else:\n",
        "        # Exploit: choose the action with the highest Q-value\n",
        "        q_values = q_network(state)\n",
        "        action = tf.argmax(q_values, axis=1).numpy()[0]\n",
        "\n",
        "    return action"
      ]
    },
    {
      "cell_type": "code",
      "execution_count": 14,
      "metadata": {
        "id": "MWkkw3uYX7th"
      },
      "outputs": [],
      "source": [
        "# UNQ_C2\n",
        "# GRADED FUNCTION: compute_loss\n",
        "\n",
        "def compute_loss(experiences, gamma, q_network, target_q_network):\n",
        "    \"\"\"\n",
        "    Calculates the loss.\n",
        "\n",
        "    Args:\n",
        "      experiences: (tuple) tuple of [\"state\", \"action\", \"reward\", \"next_state\", \"done\"] namedtuples\n",
        "      gamma: (float) The discount factor.\n",
        "      q_network: (tf.keras.Sequential) Keras model for predicting the q_values\n",
        "      target_q_network: (tf.keras.Sequential) Keras model for predicting the targets\n",
        "\n",
        "    Returns:\n",
        "      loss: (TensorFlow Tensor) the Mean-Squared Error between y_targets and Q(s,a) values.\n",
        "    \"\"\"\n",
        "\n",
        "    # Unpack the mini-batch of experience tuples\n",
        "    states, actions, rewards, next_states, done_vals = experiences\n",
        "\n",
        "    # Compute max Q^(s', a') from target network\n",
        "    max_qsa = tf.reduce_max(target_q_network(next_states), axis=-1)\n",
        "\n",
        "    # Compute y targets: y = R + (1 - done) * gamma * max_qsa\n",
        "    y_targets = rewards + (1 - done_vals) * gamma * max_qsa\n",
        "\n",
        "    # Get the q_values for the actions taken\n",
        "    q_values = q_network(states)\n",
        "    q_values = tf.gather_nd(q_values, tf.stack([tf.range(q_values.shape[0]),\n",
        "                                                tf.cast(actions, tf.int32)], axis=1))\n",
        "\n",
        "    # Compute the loss (Mean Squared Error)\n",
        "    loss = MSE(y_targets, q_values)\n",
        "\n",
        "    return loss\n"
      ]
    },
    {
      "cell_type": "code",
      "execution_count": 15,
      "metadata": {
        "id": "e6n2vKrwX_J6"
      },
      "outputs": [],
      "source": [
        "# @tf.function # Remove tf.function decorator\n",
        "def agent_learn(experiences, gamma):\n",
        "    \"\"\"\n",
        "    Updates the weights of the Q networks.\n",
        "\n",
        "    Args:\n",
        "      experiences: (tuple) tuple of [\"state\", \"action\", \"reward\", \"next_state\", \"done\"] namedtuples\n",
        "      gamma: (float) The discount factor.\n",
        "\n",
        "    \"\"\"\n",
        "\n",
        "    # Calculate the loss\n",
        "    with tf.GradientTape() as tape:\n",
        "        loss = compute_loss(experiences, gamma, q_network, target_q_network)\n",
        "\n",
        "    # Get the gradients of the loss with respect to the weights.\n",
        "    gradients = tape.gradient(loss, q_network.trainable_variables)\n",
        "\n",
        "    # Clip the gradients by global norm\n",
        "    clipped_gradients, _ = tf.clip_by_global_norm(gradients, clip_norm=1.0) # Add gradient clipping\n",
        "\n",
        "    # Check for None gradients and shape mismatches as a workaround\n",
        "    valid_gradients = []\n",
        "    valid_variables = []\n",
        "    for grad, var in zip(clipped_gradients, q_network.trainable_variables):\n",
        "        if grad is not None and tf.shape(grad).numpy().size > 0 and tf.shape(grad).numpy().tolist() == tf.shape(var).numpy().tolist():\n",
        "            valid_gradients.append(grad)\n",
        "            valid_variables.append(var)\n",
        "        else:\n",
        "            # Optional: Print a warning if a gradient is skipped\n",
        "            # print(f\"Skipping gradient update for variable {var.name} due to invalid gradient shape.\")\n",
        "            pass\n",
        "\n",
        "\n",
        "    # Update the weights of the q_network.\n",
        "    # Only apply gradients for which valid gradients were computed\n",
        "    if valid_gradients: # Check if there are any valid gradients to apply\n",
        "        optimizer.apply_gradients(zip(valid_gradients, valid_variables)) # Apply only valid gradients\n",
        "\n",
        "    # update the weights of target q_network\n",
        "    utils.update_target_network(q_network, target_q_network)"
      ]
    },
    {
      "cell_type": "code",
      "execution_count": 16,
      "metadata": {
        "id": "882e7ecf"
      },
      "outputs": [],
      "source": [
        "# UNQ_C3\n",
        "# GRADED FUNCTION\n",
        "\n",
        "class ReplayBuffer:\n",
        "    \"\"\"Fixed-size buffer to store experience tuples.\"\"\"\n",
        "\n",
        "    def __init__(self, buffer_size, batch_size):\n",
        "        \"\"\"Initialize a ReplayBuffer object.\n",
        "\n",
        "        Args:\n",
        "            buffer_size: maximum size of buffer\n",
        "            batch_size: size of training batch\n",
        "        \"\"\"\n",
        "        self.memory = deque(maxlen=buffer_size)  # internal memory (deque)\n",
        "        self.batch_size = batch_size\n",
        "        self.experience = namedtuple(\"Experience\", field_names=[\"state\", \"action\", \"reward\", \"next_state\", \"done\"])\n",
        "\n",
        "\n",
        "    def add(self, state, action, reward, next_state, done):\n",
        "        \"\"\"Add a new experience to memory.\"\"\"\n",
        "        e = self.experience(state, action, reward, next_state, done)\n",
        "        self.memory.append(e)\n",
        "\n",
        "\n",
        "    def sample(self):\n",
        "        \"\"\"Randomly sample a batch of experiences from memory.\"\"\"\n",
        "        experiences = random.sample(self.memory, k=self.batch_size)\n",
        "\n",
        "        states = tf.convert_to_tensor(np.array([e.state for e in experiences if e is not None]), dtype=tf.float32)\n",
        "        actions = tf.convert_to_tensor(np.array([e.action for e in experiences if e is not None]), dtype=tf.int64)\n",
        "        rewards = tf.convert_to_tensor(np.array([e.reward for e in experiences if e is not None]), dtype=tf.float32)\n",
        "        next_states = tf.convert_to_tensor(np.array([e.next_state for e in experiences if e is not None]), dtype=tf.float32)\n",
        "        done_vals = tf.convert_to_tensor(np.array([e.done for e in experiences if e is not None]), dtype=tf.float32)\n",
        "\n",
        "        return (states, actions, rewards, next_states, done_vals)\n",
        "\n",
        "    def __len__(self):\n",
        "        \"\"\"Return the current size of internal memory.\"\"\"\n",
        "        return len(self.memory)"
      ]
    },
    {
      "cell_type": "code",
      "execution_count": 24,
      "metadata": {
        "colab": {
          "base_uri": "https://localhost:8080/"
        },
        "id": "Nq4730ldYLVo",
        "outputId": "a785ceec-909a-4e46-f86f-2dd06ec17c78"
      },
      "outputs": [
        {
          "output_type": "stream",
          "name": "stdout",
          "text": [
            "Episode 100 | Total point average of the last 100 episodes: -109.52\n",
            "Episode 200 | Total point average of the last 100 episodes: -32.15\n",
            "Episode 300 | Total point average of the last 100 episodes: 22.69\n",
            "Episode 400 | Total point average of the last 100 episodes: 152.76\n",
            "Episode 500 | Total point average of the last 100 episodes: 188.97\n",
            "Episode 507 | Total point average of the last 100 episodes: 200.54\n",
            "\n",
            "Environment solved in 507 episodes!\n",
            "\n",
            "Total Runtime: 4257.88 s (70.96 min)\n"
          ]
        }
      ],
      "source": [
        "start = time.time()\n",
        "\n",
        "num_episodes = 2000\n",
        "max_num_timesteps = 1000\n",
        "\n",
        "total_point_history = []\n",
        "\n",
        "num_p_av = 100    # number of total points to use for averaging\n",
        "epsilon = 1.0     # initial ε value for ε-greedy policy\n",
        "\n",
        "# Define hyperparameters\n",
        "MEMORY_SIZE = 100000     # capacity of the replay buffer\n",
        "BATCH_SIZE = 64         # size of the mini-batch\n",
        "NUM_STEPS_FOR_UPDATE = 4  # number of steps to wait before updating the target network\n",
        "GAMMA = 0.99            # discount factor\n",
        "\n",
        "# Create a memory buffer D with capacity N\n",
        "import random # Import random module\n",
        "memory_buffer = ReplayBuffer(MEMORY_SIZE, BATCH_SIZE) # Use ReplayBuffer class\n",
        "\n",
        "# Define the experience namedtuple globally (no longer needed as it's defined in ReplayBuffer)\n",
        "# experience = namedtuple(\"Experience\", field_names=[\"state\", \"action\", \"reward\", \"next_state\", \"done\"])\n",
        "\n",
        "# Set the target network weights equal to the Q-Network weights\n",
        "target_q_network.set_weights(q_network.get_weights())\n",
        "\n",
        "for i in range(num_episodes):\n",
        "\n",
        "    # Reset the environment to the initial state and get the initial state\n",
        "    state = env.reset()[0] # Access the observation\n",
        "    total_points = 0\n",
        "\n",
        "    for t in range(max_num_timesteps):\n",
        "\n",
        "        # From the current state S choose an action A using an ε-greedy policy\n",
        "        # state_qn = np.expand_dims(state, axis=0)  # state needs to be the right shape for the q_network\n",
        "        # q_values = q_network(state_qn)\n",
        "        action = select_action(state, epsilon, q_network, num_actions) # Use the defined select_action function\n",
        "\n",
        "        # Take action A and receive reward R and the next state S'\n",
        "        next_state, reward, terminated, truncated, _ = env.step(action)\n",
        "        done = terminated or truncated\n",
        "\n",
        "        # Store experience tuple (S,A,R,S', done) in the memory buffer.\n",
        "        # We store the done variable as well for convenience.\n",
        "        memory_buffer.add(state, action, reward, next_state, done) # Use the add method of the replay buffer\n",
        "\n",
        "        # Only update the network every NUM_STEPS_FOR_UPDATE time steps.\n",
        "        # update = utils.check_update_conditions(t, NUM_STEPS_FOR_UPDATE, memory_buffer)\n",
        "\n",
        "        # Sample random mini-batch of experience tuples (S,A,R,S') from D\n",
        "        if len(memory_buffer) > BATCH_SIZE and t % NUM_STEPS_FOR_UPDATE == 0: # Check if buffer is large enough and update condition is met\n",
        "             experiences = memory_buffer.sample() # Use the sample method of the replay buffer\n",
        "\n",
        "            # Set the y targets, perform a gradient descent step,\n",
        "            # and update the network weights.\n",
        "             agent_learn(experiences, GAMMA)\n",
        "\n",
        "\n",
        "        state = next_state\n",
        "        total_points += reward\n",
        "\n",
        "        if done:\n",
        "            break\n",
        "\n",
        "    total_point_history.append(total_points)\n",
        "    av_latest_points = np.mean(total_point_history[-num_p_av:])\n",
        "\n",
        "    # Update the ε value\n",
        "    # epsilon = utils.get_new_eps(epsilon) # Use a proper epsilon decay schedule\n",
        "    epsilon = max(0.01, epsilon * 0.995) # Simple epsilon decay\n",
        "\n",
        "    print(f\"\\rEpisode {i+1} | Total point average of the last {num_p_av} episodes: {av_latest_points:.2f}\", end=\"\")\n",
        "\n",
        "    if (i+1) % num_p_av == 0:\n",
        "        print(f\"\\rEpisode {i+1} | Total point average of the last {num_p_av} episodes: {av_latest_points:.2f}\")\n",
        "\n",
        "    # We will consider that the environment is solved if we get an\n",
        "    # average of 200 points in the last 100 episodes.\n",
        "    if av_latest_points >= 200.0:\n",
        "        print(f\"\\n\\nEnvironment solved in {i+1} episodes!\")\n",
        "        q_network.save('lunar_lander_model.h5')\n",
        "        break\n",
        "\n",
        "tot_time = time.time() - start\n",
        "\n",
        "print(f\"\\nTotal Runtime: {tot_time:.2f} s ({(tot_time/60):.2f} min)\")"
      ]
    },
    {
      "cell_type": "code",
      "execution_count": 18,
      "metadata": {
        "id": "TiMVJ_ltYOKQ"
      },
      "outputs": [],
      "source": [
        "# Plot the total point history along with the moving average\n",
        "utils.plot_learning_curve(total_point_history, [], 'learning_curve.png') # Use plot_learning_curve"
      ]
    },
    {
      "cell_type": "code",
      "execution_count": 19,
      "metadata": {
        "id": "kTPrdFdDYmEB"
      },
      "outputs": [],
      "source": [
        "# Suppress warnings from imageio\n",
        "import logging\n",
        "logging.getLogger().setLevel(logging.ERROR)"
      ]
    },
    {
      "cell_type": "code",
      "execution_count": 20,
      "metadata": {
        "colab": {
          "base_uri": "https://localhost:8080/"
        },
        "id": "e049626c",
        "outputId": "17a952f8-96d0-4c11-a424-0fab55d4eac6"
      },
      "outputs": [
        {
          "output_type": "execute_result",
          "data": {
            "text/plain": [
              "<module 'utils' from '/content/utils.py'>"
            ]
          },
          "metadata": {},
          "execution_count": 20
        }
      ],
      "source": [
        "import importlib\n",
        "import utils\n",
        "importlib.reload(utils)"
      ]
    },
    {
      "cell_type": "code",
      "execution_count": 21,
      "metadata": {
        "id": "47d8f889"
      },
      "outputs": [],
      "source": [
        "import os\n",
        "if not os.path.exists(\"./videos\"):\n",
        "    os.makedirs(\"./videos\")"
      ]
    },
    {
      "cell_type": "code",
      "execution_count": 22,
      "metadata": {
        "colab": {
          "base_uri": "https://localhost:8080/",
          "height": 501
        },
        "id": "0644727a",
        "outputId": "eb2565e0-acd9-4699-fb6d-4ca038700ecd"
      },
      "outputs": [
        {
          "output_type": "execute_result",
          "data": {
            "text/plain": [
              "<IPython.core.display.HTML object>"
            ],
            "text/html": [
              "\n",
              "    <video width=\"640\" height=\"480\" controls>\n",
              "      <source src=\"data:video/mp4;base64,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\" type=\"video/mp4\">\n",
              "    </video>"
            ]
          },
          "metadata": {},
          "execution_count": 22
        }
      ],
      "source": [
        "filename = \"./videos/lunar_lander.mp4\"\n",
        "\n",
        "utils.create_video(filename, env, q_network)\n",
        "utils.embed_mp4(filename)"
      ]
    }
  ],
  "metadata": {
    "colab": {
      "toc_visible": true,
      "provenance": []
    },
    "kernelspec": {
      "display_name": "Python 3",
      "name": "python3"
    },
    "language_info": {
      "name": "python"
    }
  },
  "nbformat": 4,
  "nbformat_minor": 0
}
